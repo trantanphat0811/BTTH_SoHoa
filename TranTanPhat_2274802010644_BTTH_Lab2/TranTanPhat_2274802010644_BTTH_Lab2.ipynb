{
 "cells": [
  {
   "cell_type": "markdown",
   "id": "de8d71b6-ae3b-4a90-83fb-e463912ec118",
   "metadata": {},
   "source": [
    "# ***LAB 2: NUMPY, PANDAS, VÀ MATPLOTLIB NÂNG CAO***\n"
   ]
  },
  {
   "cell_type": "markdown",
   "id": "97ed4560-f8e9-4697-a37a-c4fc27700bd0",
   "metadata": {},
   "source": [
    "## 1. NUMPY"
   ]
  },
  {
   "cell_type": "code",
   "execution_count": 3,
   "id": "f7daff9c-086f-4228-a026-258c63649526",
   "metadata": {},
   "outputs": [
    {
     "data": {
      "text/plain": [
       "array([3, 5])"
      ]
     },
     "execution_count": 3,
     "metadata": {},
     "output_type": "execute_result"
    }
   ],
   "source": [
    "import numpy as np\n",
    "x = np.array([1, 2, 3, 4, 5, 6, 7, 8])\n",
    "x[3]\n",
    "#lấy từ 3-8\n",
    "x[2:8]\n",
    "#Lấy từ 3 - 7\n",
    "x[2:7]\n",
    "x[2:-1]\n",
    "#Lấy 7-8\n",
    "x[-2:]\n",
    "# Lấy phần tử 2 và 4\n",
    "x[[2,4]]"
   ]
  },
  {
   "cell_type": "code",
   "execution_count": 4,
   "id": "89fcedc5-5e64-4d09-af63-94fb85bf9138",
   "metadata": {},
   "outputs": [
    {
     "name": "stdout",
     "output_type": "stream",
     "text": [
      "[[1 2]\n",
      " [3 4]\n",
      " [5 6]]\n",
      "2\n",
      "6\n",
      "[[3 4]\n",
      " [5 6]]\n",
      "[[3 4]\n",
      " [5 6]]\n",
      "[[3 4]\n",
      " [5 6]]\n",
      "[[3 4]\n",
      " [5 6]]\n",
      "[1 3 5]\n",
      "[1 5]\n",
      "[1 5]\n"
     ]
    }
   ],
   "source": [
    "data = [(1, 2), (3, 4), (5, 6)]\n",
    "mang = np.array(data)\n",
    "print(mang)\n",
    "#Lấy phần tử 2\n",
    "print(mang[0,1])\n",
    "#Lấy phần tử 6\n",
    "print(mang[2,1])\n",
    "#Lấy 3,4,5,6\n",
    "print(mang[1:, :])\n",
    "#Cách khác\n",
    "print(mang[1:])\n",
    "print(mang[(1,2), :])\n",
    "print(mang[-2:])\n",
    "#Lấy 1,3,5\n",
    "print(mang[:,0])\n",
    "#Lấy 1-5\n",
    "print(mang[(0,2),0])\n",
    "#Lấy 1 và 5 theo format start:end:step\n",
    "print(mang[::2,0])\n"
   ]
  },
  {
   "cell_type": "code",
   "execution_count": 5,
   "id": "806c35cd-ef76-4dde-baaf-db23300fec1e",
   "metadata": {},
   "outputs": [
    {
     "name": "stdout",
     "output_type": "stream",
     "text": [
      "[ 2  6 10 14]\n",
      "[ 7 11]\n",
      "[ 4  7 10]\n",
      "[16 15 14 13]\n",
      "[16 15 14 13]\n",
      "[16 15 14 13]\n"
     ]
    }
   ],
   "source": [
    "x = [\n",
    "    (1, 2, 3, 4),\n",
    "    (5, 6, 7, 8),\n",
    "    (9, 10, 11, 12),\n",
    "    (13, 14, 15, 16),\n",
    "]\n",
    "mangg = np.array(x)\n",
    "# lấy 2 6 10 14\n",
    "print(mangg[:,1])\n",
    "\n",
    "#Lấy 7 và 11\n",
    "print(mangg[1:3,2])\n",
    "\n",
    "#Lấy 4 7 10\n",
    "print(mangg[[0,1,2], [3,2,1]])\n",
    "\n",
    "#lấy 16 15 14 13\n",
    "print(mangg[3,:][::-1][:4])\n",
    "print(mangg[3,::-1])\n",
    "print(mangg[-1, -1::-1])"
   ]
  },
  {
   "cell_type": "markdown",
   "id": "ebc518e0-99fe-4a46-9d8d-da3bce3c0f9a",
   "metadata": {},
   "source": [
    "BTVN: Cho ma trận sau = [\\\n",
    "    (99, 99, 99),\\\n",
    "    (99, 99, 99),\\\n",
    "    (99, 99, 99),\\\n",
    "]\\\n",
    "giả sử 0 = O và 1 là X \\\n",
    "nhận đầu vào từ phía X và O luân phiên\\\n",
    "cho một cặp chỉ số \\\n",
    "nếu phía x nhập ((0,0)) thì ma trận trở thành:\\\n",
    "[\\\n",
    "    (X, 99, 99),\\\n",
    "    (99, 99, 99),\\\n",
    "    (99, 99, 99),\\\n",
    "]\\\n",
    "\n",
    "Nếu phía O nhập ((0,0)) thì lỗi và yêu cầu nhập lại và nếu không thì điền vào ma trận\\\n",
    "\n",
    "Nếu ai đó có 3 ô liên tiếp thì dừng trò chơi\\\n"
   ]
  },
  {
   "cell_type": "code",
   "execution_count": 28,
   "id": "7c2ed2df-fcb6-4358-8514-462e8f23d6a2",
   "metadata": {},
   "outputs": [
    {
     "name": "stdout",
     "output_type": "stream",
     "text": [
      "[4 5 6]\n",
      "[2 5]\n",
      "[3 4]\n",
      "[9 6 3]\n",
      "[9 6 3]\n",
      "[9 6 3]\n"
     ]
    }
   ],
   "source": [
    "import numpy as np\n",
    "\n",
    "x = np.array([\n",
    "    (1, 2, 3),\n",
    "    (4, 5, 6),\n",
    "    (7, 8, 9)\n",
    "])\n",
    "# Lấy 4, 5, 6\n",
    "print(x[1,:])\n",
    "# Lấy 3, 5\n",
    "print(x[:2, 1])\n",
    "# Lấy 3, 4\n",
    "print(x[[0, 1], [2, 0]])\n",
    "# Lấy 9, 6, 3\n",
    "print(x[[2, 1, 0], [2, 2, 2]])\n",
    "print(x[:3,-1][::-1])\n",
    "print(x[::-1, 2])"
   ]
  },
  {
   "cell_type": "code",
   "execution_count": 42,
   "id": "65d7b70c-032a-422c-86d4-4c6f85dff654",
   "metadata": {},
   "outputs": [
    {
     "name": "stdout",
     "output_type": "stream",
     "text": [
      "Các phần tử chẵn: [2, 4, 6, 8, 10]\n"
     ]
    }
   ],
   "source": [
    "x = [1, 2, 3, 4, 5, 6, 7, 8, 9, 10]\n",
    "# Lấy các phần tử chẵn\n",
    "mang_chan = [num for num in x if num % 2 == 0]\n",
    "print(\"Các phần tử chẵn:\", mang_chan)\n"
   ]
  },
  {
   "cell_type": "code",
   "execution_count": 54,
   "id": "832bb439-ca1b-4d19-bd15-f0eb88bfd114",
   "metadata": {},
   "outputs": [
    {
     "data": {
      "text/plain": [
       "array([[1., 1., 1.],\n",
       "       [1., 1., 1.],\n",
       "       [1., 1., 1.]])"
      ]
     },
     "execution_count": 54,
     "metadata": {},
     "output_type": "execute_result"
    }
   ],
   "source": [
    "np.ones((3,3))"
   ]
  },
  {
   "cell_type": "code",
   "execution_count": 72,
   "id": "3f93dc7e-b19c-4191-ae5d-f07875b8ed16",
   "metadata": {},
   "outputs": [
    {
     "data": {
      "text/plain": [
       "array([0, 1, 2])"
      ]
     },
     "execution_count": 72,
     "metadata": {},
     "output_type": "execute_result"
    }
   ],
   "source": [
    "z = np.arange(3)\n",
    "z"
   ]
  },
  {
   "cell_type": "code",
   "execution_count": 58,
   "id": "831731b9-64f9-4c8b-ae6c-09f3861779cb",
   "metadata": {},
   "outputs": [
    {
     "data": {
      "text/plain": [
       "array([[1., 2., 3.],\n",
       "       [1., 2., 3.],\n",
       "       [1., 2., 3.]])"
      ]
     },
     "execution_count": 58,
     "metadata": {},
     "output_type": "execute_result"
    }
   ],
   "source": [
    "np.ones((3,3)) + np.arange(3)\n"
   ]
  },
  {
   "cell_type": "code",
   "execution_count": 70,
   "id": "ce6f39ba-413f-46b1-b57d-582d81994ae5",
   "metadata": {},
   "outputs": [
    {
     "data": {
      "text/plain": [
       "array([[0],\n",
       "       [1],\n",
       "       [2]])"
      ]
     },
     "execution_count": 70,
     "metadata": {},
     "output_type": "execute_result"
    }
   ],
   "source": [
    "z = z.reshape((3,1))\n",
    "z"
   ]
  },
  {
   "cell_type": "code",
   "execution_count": 107,
   "id": "720eea7d-6e13-4adf-a242-01e844b93a64",
   "metadata": {},
   "outputs": [
    {
     "name": "stdout",
     "output_type": "stream",
     "text": [
      "(10, 4)\n",
      "(10, 4)\n",
      "(10, 4)\n",
      "(10, 4)\n",
      "(10, 4)\n",
      "(10, 4)\n",
      "(10, 4)\n",
      "(10, 4)\n",
      "(10, 4)\n",
      "(10, 4)\n",
      "(5, 4)\n"
     ]
    }
   ],
   "source": [
    "# Tạo một mảng numpy có kích thước 150 x 5. Hãy tưởng tượng mảng này chưa 150 mẫu về chiều cao, cân nặng, tuổi, lương, gpa của sinh viên VLU.\n",
    "# Chia mảng 4 cột đầu tiên thành 1 biến có tên là X và cột cuối cùng thành Y\n",
    "# Chia X thành X_train và X_test chưa 70% dữ liệu và chia Y thành Y_train và Y_test, trong đó Y_train chứa 70% dữ liệu.\n",
    "# Tạo 10 tập dữ liệu không chồng chéo của X_train \n",
    "data = np.random.uniform(0,10,(150,5))\n",
    "data.shape\n",
    "# Chia dữ liệu thành X và Y\n",
    "X = data[:, :-1]  # 4 cột đầu tiên\n",
    "Y = data[:, 4]   # Cột cuối cùng\n",
    "X.shape,Y.shape\n",
    "dataset_size = X.shape[0]\n",
    "dataset_size\n",
    "train_size = int(0.7 * dataset_size)\n",
    "train_size\n",
    "x_train = X[:train_size] \n",
    "x_test = X[train_size:]\n",
    "x_train.shape, x_test.shape\n",
    "split = x_train.shape[0]//10\n",
    "split\n",
    "for  counter in range(0, x_train.shape[0], split):\n",
    "    print(x_train[counter:counter+split].shape)\n"
   ]
  },
  {
   "cell_type": "code",
   "execution_count": 1,
   "id": "b762e08a-700e-42ea-a3d4-afddc4bf587c",
   "metadata": {},
   "outputs": [],
   "source": [
    "# BTVN:\n",
    "#Input: \n",
    "#Một mảng numpy kích thước (150,5), trong đó:\n",
    "#Cột 1: Chiều cao (Height)\n",
    "#Cột 2: Cân nặng (Weight)\n",
    "#Cột 3: Tuổi (Age)\n",
    "#Cột 4: Lương (Salary)\n",
    "#Cột 5: GPA (Grade Point Average)\n",
    "\n",
    "#Output:\n",
    "#Tách dữ liệu:\n",
    "#X: 4 cột đầu tiên (150,4)\n",
    "#Y: Cột cuối cùng (150,)\n",
    "#Chia tập huấn luyện và kiểm tra:\n",
    "#X_train: (105,4) (70% dữ liệu)\n",
    "#X_test: (45,4) (30% dữ liệu)\n",
    "#Y_train: (105,)\n",
    "#Y_test: (45,)\n",
    "#Chia X_train thành 10 tập dữ liệu không chồng chéo\n",
    "#Mỗi tập dữ liệu có kích thước (10,4), ngoại trừ tập cuối có thể nhỏ hơn một chút nếu số lượng mẫu không chia hết.\n",
    "#In ra kích thước từng tập từ X_train.\n",
    "# Nhận xét bài trên:\n",
    "#Tạo dữ liệu hợp lý:\n",
    "#Sử dụng np.random.uniform(0,10,(150,5)) để tạo dữ liệu ngẫu nhiên.\n",
    "#Sô phỏng đặc điểm sinh viên như chiều cao, cân nặng, tuổi, lương, GPA.\n",
    "\n",
    "#Chia dữ liệu đúng cách:\n",
    "#Tách X và Y hợp lý với X[:, :-1] và Y[:, 4].\n",
    "#Tỷ lệ chia train:test = 70:30 chính xác.\n",
    "\n",
    "#Chia X_train thành 10 phần không chồng chéo:\n",
    "#Sử dụng vòng lặp để tạo các tập (10,4).\n",
    "#Đảm bảo mỗi phần có đúng số lượng mẫu.\n",
    "\n"
   ]
  }
 ],
 "metadata": {
  "kernelspec": {
   "display_name": "base",
   "language": "python",
   "name": "python3"
  },
  "language_info": {
   "codemirror_mode": {
    "name": "ipython",
    "version": 3
   },
   "file_extension": ".py",
   "mimetype": "text/x-python",
   "name": "python",
   "nbconvert_exporter": "python",
   "pygments_lexer": "ipython3",
   "version": "3.10.9"
  }
 },
 "nbformat": 4,
 "nbformat_minor": 5
}
