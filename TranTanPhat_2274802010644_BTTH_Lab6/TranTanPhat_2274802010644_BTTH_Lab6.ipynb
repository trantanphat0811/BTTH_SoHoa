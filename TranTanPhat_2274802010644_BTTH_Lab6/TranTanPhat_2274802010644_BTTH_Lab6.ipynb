{
 "cells": [
  {
   "cell_type": "code",
   "execution_count": null,
   "metadata": {},
   "outputs": [],
   "source": [
    "import torch\n",
    "torch.cuda.is_available()\n"
   ]
  },
  {
   "cell_type": "code",
   "execution_count": null,
   "metadata": {},
   "outputs": [],
   "source": [
    "torch.cuda.current_device()\n",
    "torch.cuda.get_device_name(0)\n"
   ]
  },
  {
   "cell_type": "code",
   "execution_count": null,
   "metadata": {},
   "outputs": [],
   "source": [
    "# Tra ve muc su dung bo nho cua GPU hien tai theo tensors tinh bang byte cho thiet bi \n",
    "torch.cuda.memory_allocated(0)"
   ]
  },
  {
   "cell_type": "code",
   "execution_count": null,
   "metadata": {},
   "outputs": [],
   "source": [
    "import torch\n",
    "import numpy as np\n",
    "import pandas as pd\n",
    "import matplotlib.pyplot as plt\n",
    "\n",
    "df=pd.read_csv('Iris.csv')\n",
    "df.head()"
   ]
  },
  {
   "cell_type": "code",
   "execution_count": null,
   "metadata": {},
   "outputs": [],
   "source": [
    "df.shape"
   ]
  },
  {
   "cell_type": "code",
   "execution_count": null,
   "metadata": {},
   "outputs": [],
   "source": [
    "from sklearn.preprocessing import LabelEncoder\n",
    "from sklearn.model_selection import train_test_split\n",
    "import pandas as pd\n",
    "\n",
    "df = pd.read_csv(\"Iris.csv\")\n",
    "\n",
    "print(df.columns)\n",
    "\n",
    "if \"Id\" in df.columns:\n",
    "    df = df.drop(\"Id\", axis=1)\n",
    "\n",
    "X = df.drop(\"Species\", axis=1).values\n",
    "le = LabelEncoder()\n",
    "y = le.fit_transform(df[\"Species\"].values)\n",
    "# Chia tập train/test\n",
    "X_train, X_test, y_train, y_test = train_test_split(X, y, test_size=0.2, random_state=42)\n",
    "\n",
    "# Chuyển sang tensor\n",
    "X_train = torch.FloatTensor(X_train)\n",
    "X_test = torch.FloatTensor(X_test)\n",
    "y_train = torch.LongTensor(y_train).reshape(-1, 1)\n",
    "y_test = torch.LongTensor(y_test).reshape(-1, 1)\n",
    "\n",
    "print(f\"Train size: {len(y_train)}\")\n",
    "\n",
    "labels, counts = y_train.unique(return_counts=True)\n",
    "print(f\"Labels: {labels}\\nCounts: {counts}\")"
   ]
  },
  {
   "cell_type": "code",
   "execution_count": null,
   "metadata": {},
   "outputs": [],
   "source": [
    "# Tinh dao ham = pytorch \n",
    "\n",
    "# Cho y= 2x^4 + x^3 + 3x^2 + 5x + 1\n",
    "\n",
    "#tinh y'"
   ]
  },
  {
   "cell_type": "code",
   "execution_count": null,
   "metadata": {},
   "outputs": [],
   "source": [
    "import torch\n",
    "\n",
    "# tao 1 tensor voi requirements_grad duoc dat thanh True\n",
    "\n",
    "x= torch.tensor(2.0, requires_grad=True)\n",
    "print(x)\n",
    "print(x.grad)"
   ]
  },
  {
   "cell_type": "code",
   "execution_count": null,
   "metadata": {},
   "outputs": [],
   "source": [
    "# Dinh nghia ham\n",
    "y= 2*x**4 + x**3 + 3*x**2 + 5*x + 1\n",
    "print(y)"
   ]
  },
  {
   "cell_type": "code",
   "execution_count": null,
   "metadata": {},
   "outputs": [],
   "source": [
    "# Thuc hien truyen nguoc va tinh toan gradient\n",
    "y.backward()"
   ]
  },
  {
   "cell_type": "code",
   "execution_count": null,
   "metadata": {},
   "outputs": [],
   "source": [
    "# Ket qua dao ham\n",
    "x.grad"
   ]
  },
  {
   "cell_type": "code",
   "execution_count": null,
   "metadata": {},
   "outputs": [],
   "source": [
    "#  Bai tap \n",
    "\n",
    "# Cho y= 5x^6 + 3x^3 +2x^1 +2x+ x+5x^4 +1\n",
    "\n",
    "# Cho biết độ dốc của đa thức trên tại điểm nào\n",
    "\n",
    "import torch\n",
    "\n",
    "x = torch.tensor(2.0, requires_grad=True)\n",
    "\n",
    "y = 5*x**6 + 3*x**3 + 2*x**1 + 2*x + x+ 5*x**4 +1\n",
    "\n",
    "y.backward()\n",
    "\n",
    "print(f\"Độ dốc tại x = {x.item()} là: {x.grad.item()}\")\n"
   ]
  },
  {
   "cell_type": "code",
   "execution_count": null,
   "metadata": {},
   "outputs": [],
   "source": [
    "#BTVN 1: \n",
    "# Tạo 1 tensor có giá trị ban đầu là 2.0\n",
    "# Định nghĩa hàm số và tính gradient\n",
    "# y= x^3 + 2x^2 + 5x +1 \n",
    "# Tính dy/dx tại giá trị của x\n",
    "# Dùng phương pháp Gradient Descent với learning rate alpha = 0.1 để cập nhật giá trị x trong 10 vòng lặp\n",
    "\n",
    "import torch\n",
    "\n",
    "# Khởi tạo x với requires_grad để tính gradient\n",
    "x = torch.tensor(2.0, requires_grad=True)\n",
    "\n",
    "# Learning rate\n",
    "alpha = 0.1\n",
    "\n",
    "# Thực hiện Gradient Descent trong 10 vòng lặp\n",
    "for epoch in range(10):\n",
    "    # Reset gradient về 0 mỗi vòng lặp\n",
    "    if x.grad is not None:\n",
    "        x.grad.zero_()\n",
    "    \n",
    "    # Định nghĩa hàm số y\n",
    "    y = x**3 + 2*x**2 + 5*x + 1\n",
    "    \n",
    "    # Tính đạo hàm\n",
    "    y.backward()\n",
    "    \n",
    "    # In giá trị hiện tại\n",
    "    print(f\"Epoch {epoch+1}: x = {x.item():.4f}, y = {y.item():.4f}, dy/dx = {x.grad.item():.4f}\")\n",
    "    \n",
    "    # Cập nhật x theo Gradient Descent\n",
    "    with torch.no_grad():\n",
    "        x -= alpha * x.grad\n",
    "\n"
   ]
  },
  {
   "cell_type": "code",
   "execution_count": 34,
   "metadata": {},
   "outputs": [
    {
     "name": "stdout",
     "output_type": "stream",
     "text": []
    }
   ],
   "source": [
    "#BTVN 2:\n",
    "#Tạo 1 tập dữ liệu giả lập với x là số giờ học ( ngẫu nhiên từ 1-10) và y là số điểm được tính theo công thức = 3x +5 + noise \n",
    "#Với noise là một giá trị ngẫu nhiên nhỏ\n",
    "# Khởi tạo tham số w và b ngẫu nhiên với requires_grad = True   \n",
    "# Tính MSE\n",
    "# Tính gradient\n",
    "# Cập nhật tham số w và b bằng gradient descent với Learning rate alpha = 0.01\n",
    "# Lặp lại quá trình trên trong 100 vòng lặp và quan sát sự hội tụ của mô hình\n",
    "\n",
    "import torch\n",
    "import random\n",
    "\n",
    "# Set random seed để tái lập kết quả\n",
    "random.seed(42)\n",
    "torch.manual_seed(42)\n",
    "\n",
    "n_samples = 100\n",
    "\n",
    "# Tạo dữ liệu x và noise bằng random của Python\n",
    "x_list = [random.randint(1, 10) for _ in range(n_samples)]\n",
    "noise_list = [random.uniform(-0.5, 0.5) for _ in range(n_samples)]\n",
    "\n",
    "# Chuyển sang tensor\n",
    "x = torch.tensor(x_list, dtype=torch.float32)\n",
    "noise = torch.tensor(noise_list, dtype=torch.float32)\n",
    "\n",
    "# Tính y theo công thức y = 3x + 5 + noise\n",
    "y = 3 * x + 5 + noise\n",
    "\n",
    "# Khởi tạo tham số w và b ngẫu nhiên\n",
    "w = torch.randn(1, requires_grad=True)\n",
    "b = torch.randn(1, requires_grad=True)\n",
    "\n",
    "# Learning rate và số vòng lặp\n",
    "alpha = 0.01\n",
    "epochs = 100\n",
    "\n",
    "# Gradient Descent\n",
    "for epoch in range(epochs):\n",
    "    # Dự đoán y\n",
    "    y_pred = w * x + b\n",
    "\n",
    "    # Tính loss MSE\n",
    "    loss = torch.mean((y_pred - y) ** 2)\n",
    "\n",
    "    # Reset gradient\n",
    "    if w.grad is not None:\n",
    "        w.grad.zero_()\n",
    "        b.grad.zero_()\n",
    "\n",
    "    # Tính gradient\n",
    "    loss.backward()\n",
    "\n",
    "    # Cập nhật w và b\n",
    "    with torch.no_grad():\n",
    "        w -= alpha * w.grad\n",
    "        b -= alpha * b.grad\n",
    "\n",
    "    # In kết quả mỗi 10 vòng\n",
    "    if (epoch + 1) % 10 == 0 or epoch == 1:\n",
    "        print(f\"Epoch {epoch+1}: Loss = {loss.item():.4f}, w = {w.item():.4f}, b = {b.item():.4f}\")\n"
   ]
  }
 ],
 "metadata": {
  "kernelspec": {
   "display_name": "base",
   "language": "python",
   "name": "python3"
  },
  "language_info": {
   "codemirror_mode": {
    "name": "ipython",
    "version": 3
   },
   "file_extension": ".py",
   "mimetype": "text/x-python",
   "name": "python",
   "nbconvert_exporter": "python",
   "pygments_lexer": "ipython3",
   "version": "3.10.16"
  }
 },
 "nbformat": 4,
 "nbformat_minor": 2
}
