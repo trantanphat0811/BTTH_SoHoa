{
 "cells": [
  {
   "cell_type": "markdown",
   "metadata": {},
   "source": [
    "# BÀI ÔN TẬP THI CUỐI HỌC KỲ"
   ]
  },
  {
   "cell_type": "markdown",
   "metadata": {},
   "source": [
    "# **Trần Tấn Phát _ 2274802010644**"
   ]
  },
  {
   "cell_type": "markdown",
   "metadata": {},
   "source": [
    "## 1. Tạo bộ dữ liệu\n",
    "\n",
    "Bộ dữ liệu về thông tin khách hàng mua sắm bao gồm các cột:\n",
    "- **ID**: Mã khách hàng (số nguyên, không thiếu).\n",
    "- **Age**: Tuổi (số nguyên, một số giá trị thiếu).\n",
    "- **Income**: Thu nhập hàng năm (USD, một số giá trị thiếu).\n",
    "- **Spending_Score**: Điểm chi tiêu (0-100, một số giá trị thiếu).\n",
    "- **Purchased**: Đã mua hàng hay chưa (0 = không, 1 = có, nhãn cần dự đoán).\n",
    "\n",
    "Dữ liệu mẫu:\n",
    "\n",
    "| ID  | Age | Income | Spending_Score | Purchased |\n",
    "|-----|-----|--------|----------------|-----------|\n",
    "| 1   | 25  | 30000  | 45             | 0         |\n",
    "| 2   |     | 45000  | 60             | 1         |\n",
    "| 3   | 30  |        | 70             | 1         |\n",
    "| 4   | 45  | 60000  |                | 0         |\n",
    "| 5   | 28  | 35000  | 55             | 1         |\n",
    "| 6   |     | 50000  | 65             | 0         |\n",
    "| 7   | 35  | 70000  | 80             | 1         |\n",
    "| 8   | 50  |        | 40             | 0         |\n",
    "| 9   | 22  | 25000  |                | 1         |\n",
    "| 10  | 40  | 80000  | 90             | 1         |\n",
    "| 11  | 33  | 55000  | 50             | 0         |\n",
    "| 12  |     | 40000  | 75             | 1         |\n",
    "| 13  | 27  | 65000  |                | 0         |\n",
    "| 14  | 48  |        | 85             | 1         |\n",
    "| 15  | 29  | 32000  | 60             | 0         |\n",
    "| 16  | 38  | 72000  | 70             | 1         |\n",
    "| 17  |     | 48000  | 45             | 0         |\n",
    "| 18  | 42  | 58000  |                | 1         |\n",
    "| 19  | 31  | 36000  | 55             | 0         |\n",
    "| 20  | 46  |        | 95             | 1         |\n",
    "| 21  | 24  | 29000  | 65             | 0         |\n",
    "| 22  | 37  | 67000  | 75             | 1         |\n",
    "| 23  |     | 43000  | 50             | 0         |\n",
    "| 24  | 49  | 78000  |                | 1         |\n",
    "| 25  | 26  | 31000  | 85             | 0         |\n",
    "| 26  | 34  |        | 60             | 1         |\n",
    "| 27  | 41  | 62000  | 70             | 0         |\n",
    "| 28  | 23  | 27000  |                | 1         |\n",
    "| 29  |     | 53000  | 80             | 0         |\n",
    "| 30  | 47  | 74000  | 90             | 1         |\n",
    "| 31  | 32  | 39000  | 45             | 0         |\n",
    "| 32  | 39  |        | 55             | 1         |\n",
    "| 33  | 28  | 46000  | 65             | 0         |\n",
    "| 34  | 44  | 69000  |                | 1         |\n",
    "| 35  |     | 34000  | 75             | 0         |\n",
    "| 36  | 36  | 57000  | 85             | 1         |\n",
    "| 37  | 25  | 28000  | 50             | 0         |\n",
    "| 38  | 50  |        | 95             | 1         |\n",
    "| 39  | 31  | 41000  | 60             | 0         |\n",
    "| 40  | 43  | 76000  |                | 1         |\n",
    "| 41  |     | 33000  | 70             | 0         |\n",
    "| 42  | 29  | 59000  | 80             | 1         |\n",
    "| 43  | 35  | 47000  | 45             | 0         |\n",
    "| 44  | 48  |        | 55             | 1         |\n",
    "| 45  | 27  | 37000  | 65             | 0         |\n",
    "| 46  | 40  | 68000  |                | 1         |\n",
    "| 47  | 33  | 52000  | 75             | 0         |\n",
    "| 48  |     | 30000  | 85             | 1         |\n",
    "| 49  | 46  | 71000  | 90             | 0         |\n",
    "| 50  | 24  |        | 50             | 1         |"
   ]
  },
  {
   "cell_type": "code",
   "execution_count": 2,
   "metadata": {},
   "outputs": [
    {
     "name": "stdout",
     "output_type": "stream",
     "text": [
      "   ID   Age   Income  Spending_Score  Purchased\n",
      "0   1  25.0  40000.0            30.0          0\n",
      "1   2  34.0  52000.0            65.0          1\n",
      "2   3  45.0  75000.0            80.0          1\n",
      "3   4  23.0  38000.0            20.0          0\n",
      "4   5  37.0  67000.0            50.0          1\n",
      "5   6  29.0  45000.0            40.0          0\n",
      "6   7  41.0  80000.0            90.0          1\n",
      "7   8  50.0  90000.0            85.0          1\n",
      "8   9  33.0  62000.0            55.0          1\n",
      "9  10  28.0  48000.0            35.0          0\n"
     ]
    }
   ],
   "source": [
    "import pandas as pd\n",
    "import numpy as np\n",
    "\n",
    "# Tạo dữ liệu 50 dòng\n",
    "data = {\n",
    "    'ID': list(range(1, 51)),\n",
    "    'Age': [25, 34, 45, 23, 37, 29, 41, 50, 33, 28, \n",
    "            np.nan, 30, 27, 48, 29, 38, np.nan, 42, 31, 46,\n",
    "            24, 37, np.nan, 49, 26, 34, 41, 23, np.nan, 47,\n",
    "            32, 39, 28, 44, np.nan, 36, 25, 50, 31, 43,\n",
    "            np.nan, 29, 35, 48, 27, 40, 33, np.nan, 46, 24],\n",
    "    'Income': [40000, 52000, 75000, 38000, 67000, 45000, 80000, 90000, 62000, 48000,\n",
    "               30000, np.nan, 65000, np.nan, 32000, 72000, 48000, 58000, 36000, np.nan,\n",
    "               29000, 67000, 43000, 78000, 31000, np.nan, 62000, 27000, 53000, 74000,\n",
    "               39000, np.nan, 46000, 69000, 34000, 57000, 28000, np.nan, 41000, 76000,\n",
    "               33000, 59000, 47000, np.nan, 37000, 68000, 52000, 30000, 71000, np.nan],\n",
    "    'Spending_Score': [30, 65, 80, 20, 50, 40, 90, 85, 55, 35, \n",
    "                        45, 60, 70, np.nan, 55, 65, 45, np.nan, 55, 95,\n",
    "                        65, 75, 50, np.nan, 85, 60, 70, np.nan, 80, 90,\n",
    "                        45, 55, 65, np.nan, 75, 85, 50, 95, 60, np.nan,\n",
    "                        70, 80, 45, 55, 65, np.nan, 75, 85, 90, 50],\n",
    "    'Purchased': [0, 1, 1, 0, 1, 0, 1, 1, 1, 0, \n",
    "                  0, 1, 0, 1, 0, 1, 0, 1, 0, 1,\n",
    "                  0, 1, 0, 1, 0, 1, 0, 1, 0, 1,\n",
    "                  0, 1, 0, 1, 0, 1, 0, 1, 0, 1,\n",
    "                  0, 1, 0, 1, 0, 1, 0, 1, 0, 1]\n",
    "}\n",
    "\n",
    "# Tạo DataFrame\n",
    "df = pd.DataFrame(data) #code here\n",
    "# Tạo DataFrame\n",
    "df = pd.DataFrame(data)\n",
    "# Lưu thành file CSV\n",
    "df.to_csv('customer_data.csv', index=False)\n",
    "print(df.head(10))"
   ]
  },
  {
   "cell_type": "markdown",
   "metadata": {},
   "source": [
    "1. Tải dữ liệu từ file CSV.\n",
    "2. Xem thông tin tổng quan (số dòng, cột, kiểu dữ liệu).\n",
    "3. Đếm giá trị thiếu trong mỗi cột.\n",
    "4. Thống kê cơ bản (trung bình, trung vị, min, max).\n",
    "5. Phân bố nhãn `Purchased`."
   ]
  },
  {
   "cell_type": "code",
   "execution_count": 3,
   "metadata": {},
   "outputs": [
    {
     "name": "stdout",
     "output_type": "stream",
     "text": [
      "\n",
      "=== Thông tin tổng quan về dữ liệu ===\n",
      "Số dòng: 50, Số cột: 5\n",
      "\n",
      "Kiểu dữ liệu mỗi cột:\n",
      "ID                  int64\n",
      "Age               float64\n",
      "Income            float64\n",
      "Spending_Score    float64\n",
      "Purchased           int64\n",
      "dtype: object\n",
      "\n",
      "=== Giá trị thiếu trong mỗi cột ===\n",
      "ID                0\n",
      "Age               7\n",
      "Income            8\n",
      "Spending_Score    7\n",
      "Purchased         0\n",
      "dtype: int64\n",
      "\n",
      "=== Thống kê cơ bản ===\n",
      "             ID        Age        Income  Spending_Score  Purchased\n",
      "count  50.00000  43.000000     42.000000       43.000000  50.000000\n",
      "mean   25.50000  35.511628  52119.047619       64.186047   0.520000\n",
      "std    14.57738   8.458223  17310.933217       18.352703   0.504672\n",
      "min     1.00000  23.000000  27000.000000       20.000000   0.000000\n",
      "25%    13.25000  28.500000  37250.000000       50.000000   0.000000\n",
      "50%    25.50000  34.000000  50000.000000       65.000000   1.000000\n",
      "75%    37.75000  42.500000  67000.000000       80.000000   1.000000\n",
      "max    50.00000  50.000000  90000.000000       95.000000   1.000000\n",
      "\n",
      "=== Phân bố nhãn Purchased ===\n",
      "Tỉ lệ:\n",
      "Purchased\n",
      "1    52.0\n",
      "0    48.0\n",
      "Name: proportion, dtype: float64\n",
      "\n",
      "Biểu đồ phân bố:\n"
     ]
    },
    {
     "data": {
      "text/plain": [
       "<Axes: title={'center': 'Phân bố nhãn Purchased'}, xlabel='Purchased'>"
      ]
     },
     "execution_count": 3,
     "metadata": {},
     "output_type": "execute_result"
    },
    {
     "data": {
      "image/png": "[encoded data removed]",
      "text/plain": [
       "<Figure size 640x480 with 1 Axes>"
      ]
     },
     "metadata": {},
     "output_type": "display_data"
    }
   ],
   "source": [
    "#code here\n",
    "import pandas as pd\n",
    "\n",
    "# 1. Tải dữ liệu từ file CSV\n",
    "df = pd.read_csv('customer_data.csv')\n",
    "\n",
    "# 2. Xem thông tin tổng quan\n",
    "print(\"\\n=== Thông tin tổng quan về dữ liệu ===\")\n",
    "print(f\"Số dòng: {df.shape[0]}, Số cột: {df.shape[1]}\")\n",
    "print(\"\\nKiểu dữ liệu mỗi cột:\")\n",
    "print(df.dtypes)\n",
    "\n",
    "# 3. Đếm giá trị thiếu trong mỗi cột\n",
    "print(\"\\n=== Giá trị thiếu trong mỗi cột ===\")\n",
    "print(df.isnull().sum())\n",
    "\n",
    "# 4. Thống kê cơ bản\n",
    "print(\"\\n=== Thống kê cơ bản ===\")\n",
    "print(df.describe())\n",
    "\n",
    "# 5. Phân bố nhãn Purchased\n",
    "print(\"\\n=== Phân bố nhãn Purchased ===\")\n",
    "purchased_dist = df['Purchased'].value_counts(normalize=True) * 100\n",
    "print(f\"Tỉ lệ:\\n{purchased_dist}\")\n",
    "print(\"\\nBiểu đồ phân bố:\")\n",
    "df['Purchased'].value_counts().plot(kind='bar', title='Phân bố nhãn Purchased')"
   ]
  },
  {
   "cell_type": "markdown",
   "metadata": {},
   "source": [
    "6. Xóa dòng có giá trị thiếu.\n",
    "7. Điền NaN trong `Age` bằng trung bình.\n",
    "8. Điền NaN trong `Income` bằng trung vị.\n",
    "9. Điền NaN trong `Spending_Score` bằng mode.\n",
    "10. Điền NaN bằng 0."
   ]
  },
  {
   "cell_type": "code",
   "execution_count": 4,
   "metadata": {},
   "outputs": [
    {
     "name": "stderr",
     "output_type": "stream",
     "text": [
      "/var/folders/98/hc11q96n679__mg9l42b0gvw0000gn/T/ipykernel_13282/1157835293.py:10: FutureWarning: A value is trying to be set on a copy of a DataFrame or Series through chained assignment using an inplace method.\n",
      "The behavior will change in pandas 3.0. This inplace method will never work because the intermediate object on which we are setting values always behaves as a copy.\n",
      "\n",
      "For example, when doing 'df[col].method(value, inplace=True)', try using 'df.method({col: value}, inplace=True)' or df[col] = df[col].method(value) instead, to perform the operation inplace on the original object.\n",
      "\n",
      "\n",
      "  df['Age'].fillna(df['Age'].mean(), inplace=True)\n",
      "/var/folders/98/hc11q96n679__mg9l42b0gvw0000gn/T/ipykernel_13282/1157835293.py:13: FutureWarning: A value is trying to be set on a copy of a DataFrame or Series through chained assignment using an inplace method.\n",
      "The behavior will change in pandas 3.0. This inplace method will never work because the intermediate object on which we are setting values always behaves as a copy.\n",
      "\n",
      "For example, when doing 'df[col].method(value, inplace=True)', try using 'df.method({col: value}, inplace=True)' or df[col] = df[col].method(value) instead, to perform the operation inplace on the original object.\n",
      "\n",
      "\n",
      "  df['Income'].fillna(df['Income'].median(), inplace=True)\n",
      "/var/folders/98/hc11q96n679__mg9l42b0gvw0000gn/T/ipykernel_13282/1157835293.py:16: FutureWarning: A value is trying to be set on a copy of a DataFrame or Series through chained assignment using an inplace method.\n",
      "The behavior will change in pandas 3.0. This inplace method will never work because the intermediate object on which we are setting values always behaves as a copy.\n",
      "\n",
      "For example, when doing 'df[col].method(value, inplace=True)', try using 'df.method({col: value}, inplace=True)' or df[col] = df[col].method(value) instead, to perform the operation inplace on the original object.\n",
      "\n",
      "\n",
      "  df['Spending_Score'].fillna(df['Spending_Score'].mode()[0], inplace=True)\n"
     ]
    }
   ],
   "source": [
    "#code here\n",
    "import pandas as pd\n",
    "import numpy as np\n",
    "from sklearn.preprocessing import MinMaxScaler, StandardScaler\n",
    "\n",
    "# 6. Xóa dòng có giá trị thiếu\n",
    "df_dropna = df.dropna()\n",
    "\n",
    "# 7. Điền NaN trong Age bằng trung bình\n",
    "df['Age'].fillna(df['Age'].mean(), inplace=True)\n",
    "\n",
    "# 8. Điền NaN trong Income bằng trung vị\n",
    "df['Income'].fillna(df['Income'].median(), inplace=True)\n",
    "\n",
    "# 9. Điền NaN trong Spending_Score bằng mode\n",
    "df['Spending_Score'].fillna(df['Spending_Score'].mode()[0], inplace=True)\n",
    "\n",
    "# 10. Điền NaN bằng 0 (ví dụ cho cột khác nếu cần)\n",
    "df.fillna(0, inplace=True)  # Áp dụng cho toàn bộ DataFrame"
   ]
  },
  {
   "cell_type": "markdown",
   "metadata": {},
   "source": [
    "11. Chuẩn hóa Min-Max cho `Income` và `Spending_Score`.\n",
    "12. Chuẩn hóa Z-score cho `Age` và `Income`.\n",
    "13. Tạo cột `Income_per_Age`.\n",
    "14. Đảm bảo `Purchased` là kiểu số.\n",
    "15. Loại bỏ ngoại lệ `Income` > 100,000."
   ]
  },
  {
   "cell_type": "code",
   "execution_count": 5,
   "metadata": {},
   "outputs": [],
   "source": [
    "#code here\n",
    "# 11. Chuẩn hóa Min-Max cho Income và Spending_Score\n",
    "scaler_minmax = MinMaxScaler()\n",
    "df[['Income', 'Spending_Score']] = scaler_minmax.fit_transform(df[['Income', 'Spending_Score']])\n",
    "\n",
    "# 12. Chuẩn hóa Z-score cho Age và Income\n",
    "scaler_zscore = StandardScaler()\n",
    "df[['Age', 'Income']] = scaler_zscore.fit_transform(df[['Age', 'Income']])\n",
    "\n",
    "# 13. Tạo cột Income_per_Age\n",
    "df['Income_per_Age'] = df['Income'] / df['Age']\n",
    "\n",
    "# 14. Đảm bảo Purchased là kiểu số\n",
    "df['Purchased'] = df['Purchased'].astype(int)\n",
    "\n",
    "# 15. Loại bỏ ngoại lệ Income > 100,000 (giả sử ngưỡng)\n",
    "df = df[df['Income'] <= 100000]  # Thay 100000 bằng ngưỡng thực tế"
   ]
  },
  {
   "cell_type": "markdown",
   "metadata": {},
   "source": [
    "16. Tính ma trận tương quan.\n",
    "17. Vẽ biểu đồ phân tán `Income` vs `Spending_Score`.\n",
    "18. Vẽ histogram cho `Age`.\n",
    "19. Vẽ boxplot cho `Income`.\n",
    "20. So sánh trung bình `Spending_Score` theo `Purchased`."
   ]
  },
  {
   "cell_type": "code",
   "execution_count": 6,
   "metadata": {},
   "outputs": [
    {
     "name": "stdout",
     "output_type": "stream",
     "text": [
      "Ma trận tương quan:\n",
      "                       ID           Age    Income  Spending_Score  Purchased  \\\n",
      "ID              1.000000  7.062638e-02 -0.134265        0.276659  -0.024967   \n",
      "Age             0.070626  1.000000e+00  0.647668        0.437203   0.512320   \n",
      "Income         -0.134265  6.476681e-01  1.000000        0.321323   0.547671   \n",
      "Spending_Score  0.276659  4.372027e-01  0.321323        1.000000   0.291357   \n",
      "Purchased      -0.024967  5.123200e-01  0.547671        0.291357   1.000000   \n",
      "Income_per_Age  0.143669  1.907074e-16 -0.392335        0.050083  -0.185764   \n",
      "\n",
      "                Income_per_Age  \n",
      "ID                1.436687e-01  \n",
      "Age               1.907074e-16  \n",
      "Income           -3.923354e-01  \n",
      "Spending_Score    5.008347e-02  \n",
      "Purchased        -1.857643e-01  \n",
      "Income_per_Age    1.000000e+00  \n"
     ]
    },
    {
     "data": {
      "image/png": "[encoded data removed]",
      "text/plain": [
       "<Figure size 640x480 with 1 Axes>"
      ]
     },
     "metadata": {},
     "output_type": "display_data"
    },
    {
     "data": {
      "image/png": "[encoded data removed]",
      "text/plain": [
       "<Figure size 640x480 with 1 Axes>"
      ]
     },
     "metadata": {},
     "output_type": "display_data"
    },
    {
     "data": {
      "image/png": "[encoded data removed]",
      "text/plain": [
       "<Figure size 640x480 with 1 Axes>"
      ]
     },
     "metadata": {},
     "output_type": "display_data"
    },
    {
     "name": "stdout",
     "output_type": "stream",
     "text": [
      "Trung bình Spending_Score theo Purchased:\n",
      " Purchased\n",
      "0    0.502778\n",
      "1    0.635897\n",
      "Name: Spending_Score, dtype: float64\n"
     ]
    }
   ],
   "source": [
    "#code here\n",
    "# 16. Tính ma trận tương quan\n",
    "correlation_matrix = df.corr()\n",
    "print(\"Ma trận tương quan:\\n\", correlation_matrix)\n",
    "\n",
    "# 17. Vẽ biểu đồ phân tán Income vs Spending_Score\n",
    "import matplotlib.pyplot as plt\n",
    "plt.scatter(df['Income'], df['Spending_Score'], alpha=0.5)\n",
    "plt.title('Biểu đồ phân tán: Income vs Spending_Score')\n",
    "plt.xlabel('Income')\n",
    "plt.ylabel('Spending_Score')\n",
    "plt.show()\n",
    "\n",
    "# 18. Vẽ histogram cho Age\n",
    "plt.hist(df['Age'], bins=10, edgecolor='black')\n",
    "plt.title('Phân bố tuổi (Age)')\n",
    "plt.xlabel('Age')\n",
    "plt.ylabel('Tần suất')\n",
    "plt.show()\n",
    "\n",
    "# 19. Vẽ boxplot cho Income\n",
    "plt.boxplot(df['Income'])\n",
    "plt.title('Boxplot Income')\n",
    "plt.ylabel('Giá trị')\n",
    "plt.show()\n",
    "\n",
    "# 20. So sánh trung bình Spending_Score theo Purchased\n",
    "mean_spending = df.groupby('Purchased')['Spending_Score'].mean()\n",
    "print(\"Trung bình Spending_Score theo Purchased:\\n\", mean_spending)"
   ]
  },
  {
   "cell_type": "markdown",
   "metadata": {},
   "source": [
    "Ứng dụng ANN để dự đoán\n",
    "\n",
    "Chúng ta sẽ xây dựng một mạng nơ-ron nhân tạo để dự đoán `Purchased` dựa trên `Age`, `Income`, và `Spending_Score`."
   ]
  },
  {
   "cell_type": "code",
   "execution_count": 7,
   "metadata": {},
   "outputs": [
    {
     "name": "stdout",
     "output_type": "stream",
     "text": [
      "Kích thước tập train - X: torch.Size([40, 3]), y: torch.Size([40])\n",
      "Kích thước tập test - X: torch.Size([10, 3]), y: torch.Size([10])\n"
     ]
    },
    {
     "name": "stderr",
     "output_type": "stream",
     "text": [
      "/var/folders/98/hc11q96n679__mg9l42b0gvw0000gn/T/ipykernel_13282/1455397747.py:14: FutureWarning: A value is trying to be set on a copy of a DataFrame or Series through chained assignment using an inplace method.\n",
      "The behavior will change in pandas 3.0. This inplace method will never work because the intermediate object on which we are setting values always behaves as a copy.\n",
      "\n",
      "For example, when doing 'df[col].method(value, inplace=True)', try using 'df.method({col: value}, inplace=True)' or df[col] = df[col].method(value) instead, to perform the operation inplace on the original object.\n",
      "\n",
      "\n",
      "  df['Age'].fillna(df['Age'].mean(), inplace=True)\n",
      "/var/folders/98/hc11q96n679__mg9l42b0gvw0000gn/T/ipykernel_13282/1455397747.py:15: FutureWarning: A value is trying to be set on a copy of a DataFrame or Series through chained assignment using an inplace method.\n",
      "The behavior will change in pandas 3.0. This inplace method will never work because the intermediate object on which we are setting values always behaves as a copy.\n",
      "\n",
      "For example, when doing 'df[col].method(value, inplace=True)', try using 'df.method({col: value}, inplace=True)' or df[col] = df[col].method(value) instead, to perform the operation inplace on the original object.\n",
      "\n",
      "\n",
      "  df['Income'].fillna(df['Income'].mean(), inplace=True)\n",
      "/var/folders/98/hc11q96n679__mg9l42b0gvw0000gn/T/ipykernel_13282/1455397747.py:16: FutureWarning: A value is trying to be set on a copy of a DataFrame or Series through chained assignment using an inplace method.\n",
      "The behavior will change in pandas 3.0. This inplace method will never work because the intermediate object on which we are setting values always behaves as a copy.\n",
      "\n",
      "For example, when doing 'df[col].method(value, inplace=True)', try using 'df.method({col: value}, inplace=True)' or df[col] = df[col].method(value) instead, to perform the operation inplace on the original object.\n",
      "\n",
      "\n",
      "  df['Spending_Score'].fillna(df['Spending_Score'].mean(), inplace=True)\n"
     ]
    }
   ],
   "source": [
    "import pandas as pd\n",
    "import numpy as np\n",
    "import torch\n",
    "import torch.nn as nn\n",
    "import torch.optim as optim\n",
    "from sklearn.model_selection import train_test_split\n",
    "from sklearn.preprocessing import StandardScaler\n",
    "\n",
    "# 1. Chuẩn bị dữ liệu\n",
    "# Tải dữ liệu từ file CSV (giả sử đã xử lý NaN)\n",
    "df = pd.read_csv('customer_data.csv')\n",
    "\n",
    "# Điền NaN bằng trung bình (nếu chưa xử lý)\n",
    "df['Age'].fillna(df['Age'].mean(), inplace=True)\n",
    "df['Income'].fillna(df['Income'].mean(), inplace=True)\n",
    "df['Spending_Score'].fillna(df['Spending_Score'].mean(), inplace=True)\n",
    "\n",
    "# Tách đặc trưng (X) và nhãn (y)\n",
    "X = df[['Age', 'Income', 'Spending_Score']].values\n",
    "y = df['Purchased'].values\n",
    "\n",
    "# Chuẩn hóa dữ liệu\n",
    "scaler = StandardScaler()\n",
    "X = scaler.fit_transform(X)\n",
    "\n",
    "# Chia tập train/test (80% and 20%)\n",
    "X_train, X_test, y_train, y_test = train_test_split(X, y, test_size=0.2, random_state=42)\n",
    "\n",
    "# Chuyển dữ liệu sang tensor của PyTorch\n",
    "X_train = torch.FloatTensor(X_train)\n",
    "X_test = torch.FloatTensor(X_test)\n",
    "y_train = torch.LongTensor(y_train)  # Reshape để phù hợp với đầu ra\n",
    "y_test = torch.LongTensor(y_test)\n",
    "\n",
    "# In kích thước các tập dữ liệu để kiểm tra\n",
    "print(f\"Kích thước tập train - X: {X_train.shape}, y: {y_train.shape}\")\n",
    "print(f\"Kích thước tập test - X: {X_test.shape}, y: {y_test.shape}\")"
   ]
  },
  {
   "cell_type": "code",
   "execution_count": 8,
   "metadata": {},
   "outputs": [],
   "source": [
    "# Bước 2: Xây dựng mô hình ANN\n",
    "class ANN(nn.Module):\n",
    "    def __init__(self, input_size):\n",
    "        super(ANN, self).__init__()\n",
    "        self.layers = nn.Sequential(\n",
    "            # Lớp ẩn 1: 16 nơ-ron\n",
    "            nn.Linear(input_size, 16),\n",
    "            nn.ReLU(),\n",
    "            \n",
    "            # Lớp ẩn 2: 8 nơ-ron\n",
    "            nn.Linear(16, 8),\n",
    "            nn.ReLU(),\n",
    "            \n",
    "            # Lớp đầu ra: 1 nơ-ron\n",
    "            nn.Linear(8, 1),\n",
    "            nn.Sigmoid()  # Hàm kích hoạt sigmoid cho phân loại nhị phân\n",
    "        )\n",
    "    \n",
    "    def forward(self, x):\n",
    "        return self.layers(x)"
   ]
  },
  {
   "cell_type": "code",
   "execution_count": 9,
   "metadata": {},
   "outputs": [
    {
     "name": "stdout",
     "output_type": "stream",
     "text": [
      "ANN(\n",
      "  (layers): Sequential(\n",
      "    (0): Linear(in_features=3, out_features=16, bias=True)\n",
      "    (1): ReLU()\n",
      "    (2): Linear(in_features=16, out_features=8, bias=True)\n",
      "    (3): ReLU()\n",
      "    (4): Linear(in_features=8, out_features=1, bias=True)\n",
      "    (5): Sigmoid()\n",
      "  )\n",
      ")\n"
     ]
    }
   ],
   "source": [
    "# Khởi tạo mô hình\n",
    "input_size = X_train.shape[1]  # Số lượng features (3)\n",
    "model = ANN(input_size)\n",
    "\n",
    "# Kiểm tra kiến trúc\n",
    "print(model)"
   ]
  },
  {
   "cell_type": "code",
   "execution_count": 10,
   "metadata": {},
   "outputs": [
    {
     "name": "stdout",
     "output_type": "stream",
     "text": [
      "Epoch [10/50], Loss: 0.5899\n",
      "Epoch [20/50], Loss: 0.4479\n",
      "Epoch [30/50], Loss: 0.3816\n",
      "Epoch [40/50], Loss: 0.3531\n",
      "Epoch [50/50], Loss: 0.3272\n"
     ]
    }
   ],
   "source": [
    "# 3. Định nghĩa hàm mất mát và tối ưu hóa\n",
    "criterion = nn.BCELoss()  # Binary Cross Entropy Loss\n",
    "optimizer = optim.Adam(model.parameters(), lr=0.01)\n",
    "\n",
    "# Huấn luyện mô hình\n",
    "num_epochs = 50\n",
    "for epoch in range(num_epochs):\n",
    "    model.train()\n",
    "    \n",
    "    # Forward pass\n",
    "    outputs = model(X_train)\n",
    "    loss = criterion(outputs.squeeze(), y_train.float())\n",
    "    \n",
    "    # Backward pass và tối ưu hóa\n",
    "    optimizer.zero_grad()\n",
    "    loss.backward()\n",
    "    optimizer.step()\n",
    "    \n",
    "    # In loss mỗi 10 epochs\n",
    "    if (epoch + 1) % 10 == 0:\n",
    "        print(f'Epoch [{epoch+1}/{num_epochs}], Loss: {loss.item():.4f}')"
   ]
  },
  {
   "cell_type": "code",
   "execution_count": 11,
   "metadata": {},
   "outputs": [
    {
     "name": "stdout",
     "output_type": "stream",
     "text": [
      "Accuracy trên tập kiểm tra: 0.8000\n",
      "\n",
      "Dự đoán mẫu (5 dòng đầu tiên):\n",
      "[1. 1. 0. 1. 1.]\n",
      "Nhãn thực tế:\n",
      "[1 1 0 1 1]\n"
     ]
    }
   ],
   "source": [
    "# 4. Đánh giá mô hình\n",
    "model.eval()\n",
    "with torch.no_grad():\n",
    "    y_pred = model(X_test)\n",
    "    y_pred_class = (y_pred > 0.5).float()  # Chuyển thành 0 hoặc 1\n",
    "    accuracy = (y_pred_class.eq(y_test.view_as(y_pred_class)).sum() / float(y_test.shape[0])).item()\n",
    "    print(f'Accuracy trên tập kiểm tra: {accuracy:.4f}')\n",
    "\n",
    "    # In một số dự đoán mẫu\n",
    "    print(\"\\nDự đoán mẫu (5 dòng đầu tiên):\")\n",
    "    print(y_pred_class[:5].squeeze().numpy())\n",
    "    print(\"Nhãn thực tế:\")\n",
    "    print(y_test[:5].numpy())"
   ]
  }
 ],
 "metadata": {
  "kernelspec": {
   "display_name": "base",
   "language": "python",
   "name": "python3"
  },
  "language_info": {
   "codemirror_mode": {
    "name": "ipython",
    "version": 3
   },
   "file_extension": ".py",
   "mimetype": "text/x-python",
   "name": "python",
   "nbconvert_exporter": "python",
   "pygments_lexer": "ipython3",
   "version": "3.10.16"
  }
 },
 "nbformat": 4,
 "nbformat_minor": 2
}
